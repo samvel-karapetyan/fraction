{
 "cells": [
  {
   "cell_type": "code",
   "execution_count": 14,
   "metadata": {},
   "outputs": [],
   "source": [
    "# Հիմնական դաս\n",
    "class Animal: # abstract class\n",
    "    class_name = \"animal\"\n",
    "\n",
    "    def __init__(self, name):\n",
    "        self.name = name\n",
    "\n",
    "    def make_sound(self):\n",
    "        raise NotImplementedError # ValueError\n",
    "\n",
    "# Ժառանգություն\n",
    "class Dog(Animal):\n",
    "    def make_sound(self):\n",
    "        return f\"Բարև, ես {self.name}-ն եմ, հաֆ-հաֆ!\"\n",
    "\n",
    "    def asdas(self):\n",
    "        pass\n",
    "\n",
    "class Cat(Animal):\n",
    "    def make_sound(self):\n",
    "        return f\"Բարև, ես {self.name}-ն եմ, մյաու-մյաու!\""
   ]
  },
  {
   "cell_type": "code",
   "execution_count": 15,
   "metadata": {},
   "outputs": [
    {
     "data": {
      "text/plain": [
       "'Բարև, ես Koko-ն եմ, մյաու-մյաու!'"
      ]
     },
     "execution_count": 15,
     "metadata": {},
     "output_type": "execute_result"
    }
   ],
   "source": [
    "Cat(\"Koko\").make_sound()"
   ]
  },
  {
   "cell_type": "code",
   "execution_count": 55,
   "metadata": {},
   "outputs": [
    {
     "name": "stdout",
     "output_type": "stream",
     "text": [
      "Անուն: Samvel1, Տարիք: 20\n",
      "Անուն: Samvel2, Տարիք: 20\n",
      "Անուն: Samvel1Samvel2, Տարիք: 40\n"
     ]
    }
   ],
   "source": [
    "# Հատուկ մեթոդներ (Magic Methods)\n",
    "class Person:\n",
    "    def __init__(self, name, age):\n",
    "        self.name = name\n",
    "        self.age = age\n",
    "    \n",
    "    def __str__(self):  # Հատուկ մեթոդ տպելու համար\n",
    "        return f\"Անուն: {self.name}, Տարիք: {self.age}\"\n",
    "\n",
    "    # __repr__\n",
    "\n",
    "    def __add__(self, other):  # Հատուկ մեթոդ գումարման համար\n",
    "        return Person(self.name + other.name, self.age + other.age)\n",
    "\n",
    "a = Person(\"Samvel1\", 20)\n",
    "b = Person(\"Samvel2\", 20)\n",
    "\n",
    "print(a)\n",
    "print(b)\n",
    "\n",
    "print(a + b) # a.__add__(b)"
   ]
  },
  {
   "cell_type": "code",
   "execution_count": 54,
   "metadata": {},
   "outputs": [
    {
     "data": {
      "text/plain": [
       "[int, object]"
      ]
     },
     "execution_count": 54,
     "metadata": {},
     "output_type": "execute_result"
    }
   ],
   "source": [
    "# [1, 2, 3] + [4, 5, 6] # [1, 2, 3].__add__([4, 5, 6])"
   ]
  },
  {
   "cell_type": "code",
   "execution_count": 34,
   "metadata": {},
   "outputs": [
    {
     "name": "stdout",
     "output_type": "stream",
     "text": [
      "2\n"
     ]
    }
   ],
   "source": [
    "print(2)"
   ]
  },
  {
   "cell_type": "code",
   "execution_count": 32,
   "metadata": {},
   "outputs": [
    {
     "name": "stdout",
     "output_type": "stream",
     "text": [
      "True\n",
      "True\n"
     ]
    }
   ],
   "source": [
    "# isinstance և issubclass\n",
    "# type(other) == Person\n",
    "\n",
    "print(isinstance(Dog(\"Rex\"), Animal))  # Վերադարձնում է True\n",
    "print(issubclass(Dog, Animal))  # Վերադարձնում է True"
   ]
  },
  {
   "cell_type": "code",
   "execution_count": 63,
   "metadata": {},
   "outputs": [
    {
     "data": {
      "text/plain": [
       "[__main__.Parrot, __main__.Bird, __main__.Animal, __main__.Flyable, object]"
      ]
     },
     "execution_count": 63,
     "metadata": {},
     "output_type": "execute_result"
    }
   ],
   "source": [
    "# Բազմակի ժառանգություն\n",
    "class Flyable:\n",
    "    def fly(self):\n",
    "        return \"Ես կարող եմ թռչել!\"\n",
    "\n",
    "# Animal\n",
    "#   |\n",
    "# Bird  Flyable\n",
    "#   |  /\n",
    "# Parrot\n",
    "\n",
    "# [Parrot, Bird, Animal, Flyable]\n",
    "\n",
    "class Bird(Animal):\n",
    "    def make_sound(self):\n",
    "        return \"Չիվ-չիվ!\"\n",
    "\n",
    "class Parrot(Bird, Flyable):\n",
    "    pass\n",
    "\n",
    "Parrot.mro()"
   ]
  },
  {
   "cell_type": "code",
   "execution_count": 1,
   "metadata": {},
   "outputs": [
    {
     "data": {
      "text/plain": [
       "0.3333333333333333"
      ]
     },
     "execution_count": 1,
     "metadata": {},
     "output_type": "execute_result"
    }
   ],
   "source": [
    "1 / 3"
   ]
  }
 ],
 "metadata": {
  "kernelspec": {
   "display_name": "Python 3",
   "language": "python",
   "name": "python3"
  },
  "language_info": {
   "codemirror_mode": {
    "name": "ipython",
    "version": 3
   },
   "file_extension": ".py",
   "mimetype": "text/x-python",
   "name": "python",
   "nbconvert_exporter": "python",
   "pygments_lexer": "ipython3",
   "version": "3.13.1"
  }
 },
 "nbformat": 4,
 "nbformat_minor": 2
}
