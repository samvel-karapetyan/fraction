{
 "cells": [
  {
   "cell_type": "code",
   "execution_count": null,
   "metadata": {
    "vscode": {
     "languageId": "plaintext"
    }
   },
   "outputs": [],
   "source": [
    "# Հիմնական դաս\n",
    "class Animal:\n",
    "    def __init__(self, name):\n",
    "        self.name = name\n",
    "    \n",
    "    def make_sound(self):\n",
    "        pass  # Այս մեթոդը կվերածահմանեն ժառանգները\n",
    "\n",
    "# Ժառանգություն\n",
    "class Dog(Animal):\n",
    "    def make_sound(self):\n",
    "        return \"Բարև, ես շուն եմ, վաֆ-վաֆ!\"\n",
    "\n",
    "class Cat(Animal):\n",
    "    def make_sound(self):\n",
    "        return \"Բարև, ես կատու եմ, մյաու-մյաու!\""
   ]
  },
  {
   "cell_type": "code",
   "execution_count": null,
   "metadata": {
    "vscode": {
     "languageId": "plaintext"
    }
   },
   "outputs": [],
   "source": [
    "# Հատուկ մեթոդներ (Magic Methods)\n",
    "class Person:\n",
    "    def __init__(self, name, age):\n",
    "        self.name = name\n",
    "        self.age = age\n",
    "    \n",
    "    def __str__(self):  # Հատուկ մեթոդ տպելու համար\n",
    "        return f\"Անուն: {self.name}, Տարիք: {self.age}\"\n",
    "    \n",
    "    def __add__(self, other):  # Հատուկ մեթոդ գումարման համար\n",
    "        return self.age + other.age\n",
    "\n",
    "# isinstance և issubclass\n",
    "print(isinstance(Dog(\"Rex\"), Animal))  # Վերադարձնում է True\n",
    "print(issubclass(Dog, Animal))  # Վերադարձնում է True"
   ]
  },
  {
   "cell_type": "code",
   "execution_count": null,
   "metadata": {
    "vscode": {
     "languageId": "plaintext"
    }
   },
   "outputs": [],
   "source": [
    "# Բազմակի ժառանգականություն\n",
    "class Flyable:\n",
    "    def fly(self):\n",
    "        return \"Ես կարող եմ թռչել!\"\n",
    "\n",
    "class Bird(Animal, Flyable):\n",
    "    def make_sound(self):\n",
    "        return \"Չիվ-չիվ!\""
   ]
  }
 ],
 "metadata": {
  "kernelspec": {
   "display_name": "Python 3",
   "language": "python",
   "name": "python3"
  },
  "language_info": {
   "codemirror_mode": {
    "name": "ipython",
    "version": 3
   },
   "file_extension": ".py",
   "mimetype": "text/x-python",
   "name": "python",
   "nbconvert_exporter": "python",
   "pygments_lexer": "ipython3",
   "version": "3.13.1"
  }
 },
 "nbformat": 4,
 "nbformat_minor": 2
}
